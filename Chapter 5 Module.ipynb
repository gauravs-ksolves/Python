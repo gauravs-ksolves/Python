{
 "cells": [
  {
   "cell_type": "markdown",
   "metadata": {},
   "source": [
    "What is a Module?\n",
    "Consider a module to be the same as a code library.\n",
    "\n",
    "A file containing a set of functions you want to include in your application.\n",
    "\n",
    "Create a Module\n",
    "To create a module just save the code you want in a file with the file extension .py:\n",
    "Example\n",
    "Save this code in a file named mymodule.py\n",
    "\n",
    "\n",
    "def greeting(name):\n",
    "  print(\"Hello, \" + name)\n",
    "  \n",
    "  \n",
    "  \n",
    " Use a Module\n",
    "Now we can use the module we just created, by using the import statement:\n",
    "Example\n",
    "Import the module named mymodule, and call the greeting function:\n",
    "import mymodule\n",
    "\n",
    "mymodule.greeting(\"Jonathan\")\n",
    "\n",
    "Naming a Module\n",
    "You can name the module file whatever you like, but it must have the file extension .py\n",
    "\n",
    "Re-naming a Module\n",
    "You can create an alias when you import a module, by using the as keyword:\n",
    "\n",
    "Built-in Modules\n",
    "There are several built-in modules in Python, which you can import whenever you like.\n",
    "\n",
    "Example\n",
    "Import and use the platform module:\n",
    "import platform\n",
    "\n",
    "x = platform.system()\n",
    "print(x)\n",
    "Using the dir() Function\n",
    "There is a built-in function to list all the function names (or variable names) in a module. The dir() function:\n",
    "\n",
    "import From Module\n",
    "You can choose to import only parts from a module, by using the from keyword.\n",
    "from mymodule import person1"
   ]
  },
  {
   "cell_type": "code",
   "execution_count": 2,
   "metadata": {},
   "outputs": [],
   "source": [
    "import module1 as md"
   ]
  },
  {
   "cell_type": "code",
   "execution_count": 3,
   "metadata": {},
   "outputs": [
    {
     "name": "stdout",
     "output_type": "stream",
     "text": [
      "9\n"
     ]
    }
   ],
   "source": [
    "print(md.add(4,5))"
   ]
  },
  {
   "cell_type": "code",
   "execution_count": 4,
   "metadata": {},
   "outputs": [
    {
     "name": "stdout",
     "output_type": "stream",
     "text": [
      "welcome\n"
     ]
    }
   ],
   "source": [
    "md.display(\"welcome\")"
   ]
  },
  {
   "cell_type": "code",
   "execution_count": null,
   "metadata": {},
   "outputs": [],
   "source": []
  }
 ],
 "metadata": {
  "kernelspec": {
   "display_name": "Python 3",
   "language": "python",
   "name": "python3"
  },
  "language_info": {
   "codemirror_mode": {
    "name": "ipython",
    "version": 3
   },
   "file_extension": ".py",
   "mimetype": "text/x-python",
   "name": "python",
   "nbconvert_exporter": "python",
   "pygments_lexer": "ipython3",
   "version": "3.6.5"
  }
 },
 "nbformat": 4,
 "nbformat_minor": 2
}
