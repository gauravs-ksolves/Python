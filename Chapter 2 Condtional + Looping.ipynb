{
 "cells": [
  {
   "cell_type": "markdown",
   "metadata": {},
   "source": [
    "Condtional Statement : Keep mind for indentaion "
   ]
  },
  {
   "cell_type": "code",
   "execution_count": 3,
   "metadata": {},
   "outputs": [
    {
     "name": "stdout",
     "output_type": "stream",
     "text": [
      " i am in if block2\n"
     ]
    }
   ],
   "source": [
    "x=50\n",
    "if x > 80:\n",
    "    print(\" i am in if block\")\n",
    "    print(\" i am in if block1\")\n",
    "    x=x+1\n",
    "      \n",
    "    \n",
    "    \n",
    "print(\" i am in if block2\")\n",
    "    \n",
    "    \n",
    "    \n",
    "    \n",
    "      \n",
    "    \n",
    "\n",
    "  \n",
    "  "
   ]
  },
  {
   "cell_type": "markdown",
   "metadata": {},
   "source": [
    "Alternative execution (if else )\n"
   ]
  },
  {
   "cell_type": "code",
   "execution_count": 13,
   "metadata": {},
   "outputs": [
    {
     "name": "stdout",
     "output_type": "stream",
     "text": [
      "x is odd1\n"
     ]
    }
   ],
   "source": [
    "x=4\n",
    "if x%2 == 1:\n",
    "    print ('x is even')\n",
    "    print ('x is odd2')\n",
    "else:\n",
    "    print ('x is odd1')\n",
    "\n",
    "  \n",
    "    \n"
   ]
  },
  {
   "cell_type": "markdown",
   "metadata": {},
   "source": [
    "#### Chained conditionals\n"
   ]
  },
  {
   "cell_type": "code",
   "execution_count": 14,
   "metadata": {},
   "outputs": [
    {
     "name": "stdout",
     "output_type": "stream",
     "text": [
      "x is greater than y\n",
      "Hi I am in else part of outer \n",
      "hi\n",
      " i am in out of if else \n"
     ]
    }
   ],
   "source": [
    "x=4\n",
    "y=2\n",
    "if x == y:\n",
    "    \n",
    "    print( 'x is equal to y' )\n",
    "else:\n",
    "    \n",
    "    if x < y:\n",
    "        print ('x is less than y' )\n",
    "    else:\n",
    "        \n",
    "        print ('x is greater than y')\n",
    "    print(\"Hi I am in else part of outer \")\n",
    "print(\"hi\")\n",
    "  \n",
    "print(\" i am in out of if else \")    "
   ]
  },
  {
   "cell_type": "markdown",
   "metadata": {},
   "source": [
    "\n",
    "Python For Loops\n",
    "A for loop is used for iterating over a sequence (that is either a list, a tuple, a dictionary, a set, or a string).\n",
    "\n",
    "This is less like the for keyword in other programming language, and works more like an iterator method as found in other object-orientated programming languages.\n",
    "\n",
    "With the for loop we can execute a set of statements, once for each item in a list, tuple, set etc."
   ]
  },
  {
   "cell_type": "code",
   "execution_count": 1,
   "metadata": {},
   "outputs": [
    {
     "name": "stdout",
     "output_type": "stream",
     "text": [
      "apple\n",
      "banana\n",
      "cherry\n"
     ]
    }
   ],
   "source": [
    "# for item in collection:\n",
    "\n",
    "fruits = {\"apple\":1, \"banana\":2, \"cherry\":3} # iterate over dictionary.\n",
    "for x in fruits.keys():# same way we can iterate over keys\n",
    "    print(x)"
   ]
  },
  {
   "cell_type": "code",
   "execution_count": 4,
   "metadata": {},
   "outputs": [
    {
     "name": "stdout",
     "output_type": "stream",
     "text": [
      "apple\n",
      "banana\n",
      "cherry\n",
      "banana\n"
     ]
    }
   ],
   "source": [
    "fruits = [\"apple\", \"banana\", \"cherry\",\"banana\"]  # iterate over list.\n",
    "i=0\n",
    "for i in fruits:\n",
    "    print(fruits[i])\n",
    "    i=i+1\n",
    "  \n",
    "  "
   ]
  },
  {
   "cell_type": "code",
   "execution_count": 15,
   "metadata": {},
   "outputs": [
    {
     "name": "stdout",
     "output_type": "stream",
     "text": [
      "apple\n",
      "banana\n",
      "cherry\n"
     ]
    }
   ],
   "source": [
    "fruits = (\"apple\", \"banana\", \"cherry\") #iterate over tuple.\n",
    "for x in fruits:\n",
    "    print(x)"
   ]
  },
  {
   "cell_type": "code",
   "execution_count": 17,
   "metadata": {},
   "outputs": [
    {
     "name": "stdout",
     "output_type": "stream",
     "text": [
      "apple\n",
      "a\n",
      "banana\n",
      "cherry\n"
     ]
    }
   ],
   "source": [
    "set = {\"apple\", \"banana\", \"cherry\" ,'a'} #iterate over set.\n",
    "for x in set:\n",
    "    print(x)"
   ]
  },
  {
   "cell_type": "markdown",
   "metadata": {},
   "source": [
    "The break Statement\n",
    "With the break statement we can stop the loop before it has looped through all the items:"
   ]
  },
  {
   "cell_type": "code",
   "execution_count": 1,
   "metadata": {},
   "outputs": [
    {
     "name": "stdout",
     "output_type": "stream",
     "text": [
      "banana\n",
      "Out of the loop\n"
     ]
    }
   ],
   "source": [
    "fruits = [\"apple\", \"banana\", \"cherry\",\"banana\"]\n",
    "for x in fruits:\n",
    "    \n",
    "    \n",
    "    if x == \"banana\":\n",
    "        print(x)\n",
    "        break\n",
    "        \n",
    "\n",
    "print(\"Out of the loop\")        "
   ]
  },
  {
   "cell_type": "code",
   "execution_count": 6,
   "metadata": {},
   "outputs": [
    {
     "name": "stdout",
     "output_type": "stream",
     "text": [
      "apple\n",
      "apple\n",
      "cherry\n"
     ]
    }
   ],
   "source": [
    "fruits = [\"apple\", \"banana\", \"cherry\"]\n",
    "for x in fruits:\n",
    "    if x == \"banana\":\n",
    "        break\n",
    "    print(x)\n",
    "    \n",
    "for x in fruits:\n",
    "    if x == \"banana\":\n",
    "        continue\n",
    "    print(x)    "
   ]
  },
  {
   "cell_type": "markdown",
   "metadata": {},
   "source": [
    "The while Loop\n",
    "With the while loop we can execute a set of statements as long as a condition is true."
   ]
  },
  {
   "cell_type": "code",
   "execution_count": 7,
   "metadata": {},
   "outputs": [
    {
     "name": "stdout",
     "output_type": "stream",
     "text": [
      "11\n",
      " in the the loop\n",
      "14\n",
      " in the the loop\n",
      "7\n"
     ]
    }
   ],
   "source": [
    "i = 1\n",
    "while i < 6:\n",
    "    \n",
    "    print(i+10)\n",
    "    i=i+3\n",
    "    print(\" in the the loop\") \n",
    "print(i)    "
   ]
  },
  {
   "cell_type": "code",
   "execution_count": 10,
   "metadata": {},
   "outputs": [
    {
     "name": "stdout",
     "output_type": "stream",
     "text": [
      "1\n",
      "2\n",
      "3\n"
     ]
    }
   ],
   "source": [
    "i = 1\n",
    "while i < 6:\n",
    "    print(i)\n",
    "    if i == 3:\n",
    "        break\n",
    "    i=i+1\n",
    "    "
   ]
  },
  {
   "cell_type": "code",
   "execution_count": 11,
   "metadata": {},
   "outputs": [
    {
     "name": "stdout",
     "output_type": "stream",
     "text": [
      "1\n",
      " I am out of continue \n",
      "2\n",
      "3\n",
      " I am out of continue \n",
      "4\n",
      " I am out of continue \n",
      "5\n",
      " I am out of continue \n"
     ]
    }
   ],
   "source": [
    "i = 1\n",
    "while i < 6:\n",
    "    print(i)\n",
    "    i=i+1\n",
    "    if i == 3:\n",
    "        \n",
    "        \n",
    "        continue\n",
    "    print(\" I am out of continue \")\n",
    " "
   ]
  },
  {
   "cell_type": "code",
   "execution_count": null,
   "metadata": {},
   "outputs": [],
   "source": []
  }
 ],
 "metadata": {
  "kernelspec": {
   "display_name": "Python 3",
   "language": "python",
   "name": "python3"
  },
  "language_info": {
   "codemirror_mode": {
    "name": "ipython",
    "version": 3
   },
   "file_extension": ".py",
   "mimetype": "text/x-python",
   "name": "python",
   "nbconvert_exporter": "python",
   "pygments_lexer": "ipython3",
   "version": "3.6.5"
  }
 },
 "nbformat": 4,
 "nbformat_minor": 2
}
