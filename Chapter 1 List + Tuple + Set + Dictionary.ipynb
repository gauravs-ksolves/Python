{
 "cells": [
  {
   "cell_type": "markdown",
   "metadata": {},
   "source": [
    "Python Collections (Arrays)\n",
    "There are four collection data types in the Python programming language:\n",
    "\n",
    "List is a collection which is ordered and changeable. Allows duplicate members.\n",
    "\n",
    "Tuple is a collection which is ordered and unchangeable. Allows duplicate members.\n",
    "\n",
    "Set is a collection which is unordered and unindexed. No duplicate members.\n",
    "\n",
    "Dictionary is a collection which is unordered, changeable and indexed. No duplicate members.\n",
    "\n",
    "We would study any collection on basis of below.\n",
    "\n",
    "1. how do we create it.\n",
    "2. what the method and function it support. \n",
    "3. Comparision between other collection.\n",
    "\n"
   ]
  },
  {
   "cell_type": "markdown",
   "metadata": {},
   "source": [
    "----------------------------List----------------------------------------        defined in square brackets\n",
    "mutable      \n",
    "duplicacy     \n",
    "orderd    \n",
    "indexing possible and first index is 0 and last index is -1.\n",
    "slicing is also possible .it is in form of list[i,j] where it select element from i to j-1.\n",
    " "
   ]
  },
  {
   "cell_type": "code",
   "execution_count": 2,
   "metadata": {},
   "outputs": [
    {
     "name": "stdout",
     "output_type": "stream",
     "text": [
      "['apple', 'banana', 'cherry']\n",
      "banana\n",
      "till ['apple', 'blackcurrant', 'cherry']\n",
      "3\n",
      "till ['banana', 'cherry']\n"
     ]
    }
   ],
   "source": [
    "thislist = [\"apple\", \"banana\", \"cherry\"] #Create a List:\n",
    "print(thislist)\n",
    "thislist = [\"apple\", \"banana\", \"cherry\"] \n",
    "print(thislist[1]) #Access the list items by referring to the index number:\n",
    "thislist = [\"apple\", \"banana\", \"cherry\"]\n",
    "thislist[1] = \"blackcurrant\" #Change the second item:\n",
    "print('till',thislist) \n",
    "thislist = [\"apple\", \"banana\", \"cherry\"]\n",
    "print(len(thislist)) #Print the number of items in the list:\n",
    "thislist = [\"apple\", \"banana\", \"cherry\"]\n",
    "del (thislist[0]) #The del keyword removes the specified index\n",
    "print('till',thislist)\n",
    "thislist = [\"apple\", \"banana\", \"cherry\"]\n",
    "del thislist\n",
    "#print(thislist)\n",
    "#print(thislist) # will show error as it does not exists."
   ]
  },
  {
   "cell_type": "code",
   "execution_count": 1,
   "metadata": {},
   "outputs": [
    {
     "name": "stdout",
     "output_type": "stream",
     "text": [
      "concat [1, 2, 3, 4, 5]\n",
      "[3, 4, 5]\n",
      "[1, 2, 3, 4, 5, 6]\n",
      "[1, 2, 3]\n",
      "[1, 2, 3]\n",
      "[4]\n",
      "[2, 3, 4, 5]\n",
      "[]\n"
     ]
    }
   ],
   "source": [
    "#list concatenation\n",
    "list1  = [1,2,3]\n",
    "list2 =  [4,5]\n",
    "list3= list1 + list2\n",
    "print('concat',list3)\n",
    "\n",
    "#List slicing\n",
    "list = [1,2,3,4,5,6]\n",
    "print(list[2:5])\n",
    "print(list[:])\n",
    "print(list[:3])\n",
    "print(list[:-3])\n",
    "print(list[-3:4])\n",
    "print(list[1:-1])\n",
    "print(list[1:-7])"
   ]
  },
  {
   "cell_type": "raw",
   "metadata": {},
   "source": [
    "             ----- List Methods--------\n",
    "Python has a set of built-in methods that you can use on lists.\n",
    "append()\tAdds an element at the end of the list\n",
    "clear()\t    Removes all the elements from the list\n",
    "copy()\t    Returns a copy of the list\n",
    "count()\t    Returns the number of elements with the specified value\n",
    "extend()\tAdd the elements of a list (or any iterable), to the end of the current list\n",
    "index()\t    Returns the index of the first element with the specified value\n",
    "insert()\tAdds an element at the specified position.\n",
    "pop()\t    Removes the element at the specified position.\n",
    "remove()\tRemoves the item with the specified value.\n",
    "reverse()\tReverses the order of the list.\n",
    "sort()\t    Sorts the list"
   ]
  },
  {
   "cell_type": "code",
   "execution_count": 3,
   "metadata": {},
   "outputs": [
    {
     "name": "stdout",
     "output_type": "stream",
     "text": [
      "after appened  ['apple', 'banana', 'cherry', 'orange']\n",
      "after clear  []\n",
      "after copy  ['apple', 'banana', 'cherry', 'orange']\n",
      " after count 1\n",
      "after extend  ['apple', 'banana', 'cherry', 4]\n",
      "index for first  3\n",
      "after Insert  ['apple', 'orange', 'banana', 'cherry']\n",
      "pop cherry banana ['apple']\n",
      "remove ['banana', 'cherry', 'banana']\n",
      "['aherry', 'banana', 'apple']\n",
      "None\n"
     ]
    }
   ],
   "source": [
    "# Append Method illustration\n",
    "#The append() method appends an element to the end of the list.\n",
    "#Syntax list.append(elmnt).elmnt\tRequired. An element of any type (string, number, object etc.)\n",
    "fruits = ['apple', 'banana', 'cherry']\n",
    "\n",
    "\n",
    "fruits.append(\"orange\")\n",
    "print(\"after appened \",fruits)\n",
    "\n",
    "#List clear() Method. Remove all elements from the fruits list\n",
    "#Syntax list.clear()\n",
    "\n",
    "fruits = ['apple', 'banana', 'cherry', 'orange']\n",
    "fruits.clear()\n",
    "print(\"after clear \",fruits)\n",
    "\n",
    "#List copy() Method.The copy() method returns a copy of the specified list.\n",
    "#Syntax list.copy()\n",
    "fruits = ['apple', 'banana', 'cherry', 'orange']\n",
    "x = fruits.copy()\n",
    "print(\"after copy \",x)\n",
    "\n",
    "#List count() Method.The count() method returns the number of elements with the specified value.\n",
    "#Syntax list.count(value) value\tRequired. Any type (string, number, list, tuple, etc.). The value to search for.\n",
    "fruits = ['apple', 'banana', 'cherry']\n",
    "x = fruits.count(\"cherry\")\n",
    "print(\" after count\",x)\n",
    "#List extend() Method.The extend() method adds the specified list elements (or any iterable) to the end of the current list.\n",
    "#list.extend(iterable) . parameter iterable\tRequired. Any iterable (list, set, tuple, etc.)\n",
    "fruits = ['apple', 'banana', 'cherry']\n",
    "points = [4]\n",
    "fruits.extend(points)\n",
    "print(\"after extend \",fruits)\n",
    "\n",
    "\n",
    "#List index() Method.The index() method returns the position at the first occurrence of the specified value\n",
    "# Syntax method list.index(elmnt).elmnt\tRequired. Any type (string, number, list, etc.). The element to search for\n",
    "fruits = [4, 55, 64, 32, 16, 32]\n",
    "x = fruits.index(32)\n",
    "print(\"index for first \",x)\n",
    "#List insert() Method.The insert() method \n",
    "#inserts the specified value at the specified position.syntax list.insert(pos, elmnt)\n",
    "#Parameter\tDescription\n",
    "#pos\tRequired. A number specifying in which position to insert the value\n",
    "#element\tRequired. An element of any type (string, number, object etc.)\n",
    "fruits = ['apple', 'banana', 'cherry']\n",
    "fruits.insert(1, \"orange\")\n",
    "\n",
    "print(\"after Insert \",fruits)\n",
    "\n",
    "#List pop() Method.The pop() method removes the element at the specified position.\n",
    "#Syntax list.pop(pos).\n",
    "#pos\tOptional. A number specifying the position of the element you want to remove, default value is -1, which returns the last item.\n",
    "fruits = ['apple', 'banana', 'cherry']\n",
    "x = fruits.pop()\n",
    "y=fruits.pop(1)\n",
    "print(\"pop\",x,y,fruits)\n",
    "\n",
    "#List remove() Method.The remove() method removes the first occurrence of the element with the specified value.\n",
    "#Syntax list.remove(elmnt)   .elmnt--->Required. Any type (string, number, list etc.) The element you want to remove.\n",
    "#Remove the \"banana\" element of the fruit list:\n",
    "fruits = ['apple', 'banana', 'cherry','banana']\n",
    "fruits.remove('apple')\n",
    "print(\"remove\",fruits)\n",
    "\n",
    "#List reverse() Method.\n",
    "#Reverse the order of the fruit list:\n",
    "fruits = ['apple', 'banana', 'aherry']\n",
    "fruits.reverse()\n",
    "print(fruits)\n",
    "\n",
    "#List sort() Method.Sort the list alphabetically:The sort() method sorts the list ascending by default.\n",
    "#Syntax. list.sort(reverse=True|False, key=myFunc)\n",
    "#list.sort(reverse=True|False, key=myFunc)\n",
    "\n",
    "\n",
    "#Parameter\tDescription\n",
    "#reverse\tOptional. reverse=True will sort the list descending. Default is reverse=False\n",
    "#key\tOptional. A function to specify the sorting criteria(s)\n",
    "print(fruits.sort())\n"
   ]
  },
  {
   "cell_type": "markdown",
   "metadata": {},
   "source": [
    "-----------------------------------------------End of list----------------------------------"
   ]
  },
  {
   "cell_type": "markdown",
   "metadata": {},
   "source": [
    "# Tuples"
   ]
  },
  {
   "cell_type": "markdown",
   "metadata": {},
   "source": [
    "A tuple is a collection which is ordered and unchangeable. In Python tuples are written with round brackets.\n",
    "\n",
    "There are only 2 tuple methods that tuple objects can call: count and index."
   ]
  },
  {
   "cell_type": "code",
   "execution_count": 6,
   "metadata": {},
   "outputs": [
    {
     "name": "stdout",
     "output_type": "stream",
     "text": [
      "('apple', 'banana', 'cherry')\n",
      "banana\n",
      "('apple', 'banana', 'cherry')\n",
      "3\n",
      "just elelment  b\n",
      "<class 'str'>\n",
      "slicing 1 ('b',)\n",
      "<class 'tuple'>\n",
      "slicing 2 ('b', 3, 4)\n"
     ]
    }
   ],
   "source": [
    "thistuple = (\"apple\", \"banana\", \"cherry\") #tuple creation\n",
    "print(thistuple) #Create a Tuple:\n",
    "print(thistuple[1])\n",
    "#thistuple[1] = \"blackcurrant\" # this is not possibel as it is tuple\n",
    "print(thistuple)\n",
    "thistuple = (\"apple\", \"banana\", \"cherry\")\n",
    "print(len(thistuple))\n",
    "\n",
    "# tuple slicing\n",
    "tuple1 =('a','b',3,4,5)\n",
    "print(\"just elelment \",tuple1[1])\n",
    "print(type(tuple1[1]))\n",
    "print(\"slicing 1\",tuple1[1:2])\n",
    "print(type(tuple1[1:2]))\n",
    "print(\"slicing 2\",tuple1[1:-1])"
   ]
  },
  {
   "cell_type": "markdown",
   "metadata": {},
   "source": [
    "Tuple Methods\n",
    "Python has two built-in methods that you can use on tuples.\n",
    "\n",
    "count()\tReturns the number of times a specified value occurs in a tuple\n",
    "index()\tSearches the tuple for a specified value and returns the position of where it was found"
   ]
  },
  {
   "cell_type": "code",
   "execution_count": 8,
   "metadata": {},
   "outputs": [
    {
     "name": "stdout",
     "output_type": "stream",
     "text": [
      "2\n",
      "index  3\n"
     ]
    }
   ],
   "source": [
    "#Tuple count() Method.Return the number of times the \n",
    "#value 5 appears in the tuple:\n",
    "# Syntax : tuple.count(value).value\tRequired. The item to search for\n",
    "thistuple = (1, 3, 7, 8, 7, 5, 4, 6, 8, 5)\n",
    "x = thistuple.count(5)\n",
    "print(x)\n",
    "\n",
    "#The index() method finds the first occurrence of the specified value.\n",
    "#tuple.index(value) value\tRequired. The item to search for.\n",
    "thistuple = (1, 3, 7, 8, 7, 5, 4, 6, 8, 5)\n",
    "x = thistuple.index(8)\n",
    "print(\"index \",x)"
   ]
  },
  {
   "cell_type": "markdown",
   "metadata": {},
   "source": [
    "-----------------End of tuple ---------------------"
   ]
  },
  {
   "cell_type": "markdown",
   "metadata": {},
   "source": [
    " # Sets "
   ]
  },
  {
   "cell_type": "markdown",
   "metadata": {},
   "source": [
    "SET:\n",
    "A set is an unordered collection of items. Every element is unique (no duplicates) and must be immutable (which cannot be changed).\n",
    "\n",
    "However, the set itself is mutable. We can add or remove items from it.\n",
    "\n",
    "Sets can be used to perform mathematical set operations like union, intersection, symmetric difference etc."
   ]
  },
  {
   "cell_type": "code",
   "execution_count": 16,
   "metadata": {},
   "outputs": [
    {
     "name": "stdout",
     "output_type": "stream",
     "text": [
      "{'cherry', 'apple', 'banana'}\n",
      "apple\n",
      "banana\n",
      "cherry\n",
      "3\n",
      "{'cherry', 'apple', 'banana'}\n"
     ]
    }
   ],
   "source": [
    "#Create a Set:\n",
    "#Note: Sets are unordered, so the items will appear in a random order.\n",
    "thisset = {\"apple\", \"banana\", \"cherry\"}\n",
    "print(thisset)\n",
    "#Access Items :You cannot access items in a set by referring to an index, since sets are unordered the items has no index.\n",
    "#But you can loop through the set items using a for loop, or ask if a specified value is present in a set, by using the in keyword.\n",
    "\n",
    "#Loop through the set, and print the values:\n",
    "thisset = [\"apple\", \"banana\", \"cherry\"]\n",
    "for x in thisset:\n",
    "  print(x)\n",
    "\n",
    "# Note :Change Items Once a set is created, you cannot change its items, but you can add new items.\n",
    "\n",
    "thisset = {\"apple\", \"banana\", \"cherry\"}\n",
    "print(len(thisset))\n",
    "\n",
    "#The set() Constructor.It is also possible to use the set() constructor to make a set.\n",
    "thisset = set([\"apple\", \"banana\", \"cherry\"]) # note the double round-brackets\n",
    "print(thisset)"
   ]
  },
  {
   "cell_type": "raw",
   "metadata": {},
   "source": [
    "Set Methods\n",
    "Python has a set of built-in methods that you can use on sets\n",
    "\n",
    "Method\tDescription\n",
    "add()\tAdds an element to the set\n",
    "clear()\tRemoves all the elements from the set\n",
    "copy()\tReturns a copy of the set\n",
    "difference()\tReturns a set containing the difference between two or more sets\n",
    "difference_update()\tRemoves the items in this set that are also included in another, specified set.\n",
    "discard()\t    Remove the specified item\n",
    "intersection()\tReturns a set, that is the intersection of two other sets\n",
    "intersection_update()\tRemoves the items in this set that are not present in other, specified set(s)\n",
    "isdisjoint()\tReturns whether two sets have a intersection or not\n",
    "issubset()\t    Returns whether another set contains this set or not\n",
    "issuperset()\tReturns whether this set contains another set or not\n",
    "pop()\t        Removes an element from the set\n",
    "remove()\t    Removes the specified element\n",
    "symmetric_difference()\tReturns a set with the symmetric differences of two sets\n",
    "symmetric_difference_update()\tinserts the symmetric differences from this set and another\n",
    "union()\t    Return a set containing the union of sets\n",
    "update()\tUpdate the set with the union of this set and others\n",
    "\n"
   ]
  },
  {
   "cell_type": "code",
   "execution_count": 6,
   "metadata": {},
   "outputs": [
    {
     "name": "stdout",
     "output_type": "stream",
     "text": [
      "{'apple', 'banana', 'cherry', 'orange'}\n",
      "after clear  set()\n",
      "another copy as x  {'apple', 'banana', 'cherry'}\n",
      "difference befor update   {'banana', 'cherry'} {'apple', 'banana', 'cherry'}\n",
      "difference after update   {'banana', 'cherry'} {'banana', 'cherry'}\n",
      "{'banana', 'cherry'}\n",
      "{'google', 'banana', 'cherry', 'apple', 'microsoft'}\n"
     ]
    }
   ],
   "source": [
    "#Set add() Method.Add an element to the fruits set:\n",
    "fruits = {\"apple\", \"banana\", \"cherry\"}\n",
    "fruits.add(\"orange\") \n",
    "print(fruits)\n",
    "\n",
    "#Set clear() Method\n",
    "fruits = {\"apple\", \"banana\", \"cherry\"}\n",
    "fruits.clear()\n",
    "print(\"after clear \",fruits)\n",
    "\n",
    "#Set copy() Method\n",
    "fruits = {\"apple\", \"banana\", \"cherry\"}\n",
    "x = fruits.copy()\n",
    "print(\"another copy as x \",x)\n",
    "\n",
    "#Set difference() Method.Return a set that contains the items that only exist in set x, and not in set y:\n",
    "#set1.difference(set2)\n",
    "x = {\"apple\", \"banana\", \"cherry\"}\n",
    "y = {\"google\", \"microsoft\", \"apple\"}\n",
    "z = x.difference(y) \n",
    "\n",
    "\n",
    "print(\"difference befor update  \",z,x)\n",
    "x.difference_update(y)\n",
    "\n",
    "print(\"difference after update  \",z,x)\n",
    "\n",
    "#Set difference_update() Method and update the set.\n",
    "#Remove the items that exist in both sets:\n",
    "x = {\"apple\", \"banana\", \"cherry\"}\n",
    "y = {\"google\", \"microsoft\", \"apple\"}\n",
    "\n",
    "x.difference_update(y) \n",
    "print(x)\n",
    "\n",
    "x = {\"apple\", \"banana\", \"cherry\"}\n",
    "y = {\"google\", \"microsoft\", \"apple\"}\n",
    "\n",
    "x.update(y) \n",
    "print(x)\n",
    "\n"
   ]
  },
  {
   "cell_type": "code",
   "execution_count": null,
   "metadata": {},
   "outputs": [],
   "source": [
    "---------------------------End of Set ------------------------------------------\n"
   ]
  },
  {
   "cell_type": "markdown",
   "metadata": {},
   "source": [
    "Dictionary\n",
    "A dictionary is a collection which is unordered, changeable and indexed. In Python dictionaries are written with curly brackets, and they have keys and values.\n",
    "syntax:-    {key1:value1, key2:value2,......keyn:valueN}\n",
    "\n",
    "\n"
   ]
  },
  {
   "cell_type": "code",
   "execution_count": 8,
   "metadata": {},
   "outputs": [
    {
     "name": "stdout",
     "output_type": "stream",
     "text": [
      "{'brand': 'Ford', 'model': 'Mustang', 'year': 1964}\n"
     ]
    }
   ],
   "source": [
    "#Create and print a dictionary:\n",
    "thisdict ={\n",
    "  \"brand\": \"Ford\",\n",
    "  \"model\": \"Mustang\",\n",
    "  \"year\": 1964\n",
    "}\n",
    "print(thisdict)"
   ]
  },
  {
   "cell_type": "code",
   "execution_count": 6,
   "metadata": {},
   "outputs": [
    {
     "name": "stdout",
     "output_type": "stream",
     "text": [
      "Mustang\n",
      "{'brand': 'Ford', 'model': 'Mustang', 'year': 2018}\n"
     ]
    }
   ],
   "source": [
    "#Accessing Items.You can access the items of a dictionary by referring to its key name, inside square brackets:\n",
    "x = thisdict[\"model\"]\n",
    "print(x)\n",
    "#Change Values\n",
    "#You can change the value of a specific item by referring to its key name:\n",
    "#Change the \"year\" to 2018:\n",
    "thisdict =\t{\n",
    "  \"brand\": \"Ford\",\n",
    "  \"model\": \"Mustang\",\n",
    "  \"year\": 1964\n",
    "}\n",
    "thisdict[\"year\"] = 2018\n",
    "print(thisdict)"
   ]
  },
  {
   "cell_type": "code",
   "execution_count": 8,
   "metadata": {},
   "outputs": [
    {
     "name": "stdout",
     "output_type": "stream",
     "text": [
      "key is as below\n",
      "brand\n",
      "model\n",
      "year\n",
      "value is as below\n",
      "brand Ford\n",
      "model Mustang\n",
      "year 2018\n",
      "value is as below using value\n",
      "Ford\n",
      "Mustang\n",
      "2018\n",
      "key value pair is as below.\n",
      "brand Ford\n",
      "model Mustang\n",
      "year 2018\n"
     ]
    }
   ],
   "source": [
    "#Loop Through a Dictionary\n",
    "#You can loop through a dictionary by using a for loop.\n",
    "#When looping through a dictionary, the return value are the keys of the dictionary, \n",
    "#but there are methods to return the values as well.\n",
    "#{'brand': 'Ford', 'model': 'Mustang', 'year': 2018}\n",
    "print(\"key is as below\")\n",
    "for x in thisdict:\n",
    "  print(x)              #Print all key names in the dictionary, one by one:\n",
    "\n",
    "\n",
    "#Print all values in the dictionary, one by one:\n",
    "#{'brand': 'Ford', 'model': 'Mustang', 'year': 2018}\n",
    "print('value is as below')\n",
    "for x in thisdict:\n",
    "  print(x,thisdict[x])\n",
    "\n",
    "#You can also use the values() function to return values of a dictionary:\n",
    "print('value is as below using value')\n",
    "for x in thisdict.values():\n",
    "  print(x)\n",
    "\n",
    "#Loop through both keys and values, by using the items() function:\n",
    "print('key value pair is as below.')\n",
    "for x, y in thisdict.items():\n",
    "  print(x, y)\n"
   ]
  },
  {
   "cell_type": "code",
   "execution_count": 10,
   "metadata": {},
   "outputs": [
    {
     "data": {
      "text/plain": [
       "'Ford'"
      ]
     },
     "execution_count": 10,
     "metadata": {},
     "output_type": "execute_result"
    }
   ],
   "source": [
    "\n"
   ]
  },
  {
   "cell_type": "code",
   "execution_count": null,
   "metadata": {},
   "outputs": [],
   "source": [
    "thisdict ={\n",
    "  \"brand\": \"Ford\",\n",
    "  \"model\": \"Mustang\",\n",
    "  \"year\": 1964\n",
    "}\n"
   ]
  },
  {
   "cell_type": "markdown",
   "metadata": {},
   "source": [
    "Syntax\n",
    "dict.fromkeys(keys, value)\n",
    "Parameter Values\n",
    "Parameter\tDescription\n",
    "keys\tRequired. An iterable specifying the keys of the new dictionary\n",
    "value\tOptional. The value for all keys. Default value is None"
   ]
  },
  {
   "cell_type": "code",
   "execution_count": 9,
   "metadata": {},
   "outputs": [
    {
     "data": {
      "text/plain": [
       "{'brand': 'Ford', 'model': 'Mustang', 'year': 1964}"
      ]
     },
     "execution_count": 9,
     "metadata": {},
     "output_type": "execute_result"
    }
   ],
   "source": [
    "thisdict"
   ]
  },
  {
   "cell_type": "code",
   "execution_count": 10,
   "metadata": {},
   "outputs": [
    {
     "data": {
      "text/plain": [
       "'Ford'"
      ]
     },
     "execution_count": 10,
     "metadata": {},
     "output_type": "execute_result"
    }
   ],
   "source": [
    "thisdict.get('brand')                       #we give key and it willshow the value of that particular key"
   ]
  },
  {
   "cell_type": "code",
   "execution_count": 11,
   "metadata": {},
   "outputs": [
    {
     "data": {
      "text/plain": [
       "dict_items([('brand', 'Ford'), ('model', 'Mustang'), ('year', 1964)])"
      ]
     },
     "execution_count": 11,
     "metadata": {},
     "output_type": "execute_result"
    }
   ],
   "source": [
    "thisdict.items()                           #show all keys with value in tuple"
   ]
  },
  {
   "cell_type": "code",
   "execution_count": 13,
   "metadata": {},
   "outputs": [
    {
     "name": "stdout",
     "output_type": "stream",
     "text": [
      "<class 'dict_keys'>\n"
     ]
    }
   ],
   "source": [
    "x=thisdict.keys() #only show keys of dictionary\n",
    "print(type(x))"
   ]
  },
  {
   "cell_type": "code",
   "execution_count": null,
   "metadata": {},
   "outputs": [],
   "source": [
    "thisdict.values()                                       #only show values of dictionary "
   ]
  },
  {
   "cell_type": "code",
   "execution_count": 14,
   "metadata": {},
   "outputs": [
    {
     "data": {
      "text/plain": [
       "'Ford'"
      ]
     },
     "execution_count": 14,
     "metadata": {},
     "output_type": "execute_result"
    }
   ],
   "source": [
    "thisdict.pop('brand')"
   ]
  },
  {
   "cell_type": "code",
   "execution_count": 15,
   "metadata": {},
   "outputs": [
    {
     "data": {
      "text/plain": [
       "{'model': 'Mustang', 'year': 1964}"
      ]
     },
     "execution_count": 15,
     "metadata": {},
     "output_type": "execute_result"
    }
   ],
   "source": [
    "thisdict"
   ]
  },
  {
   "cell_type": "code",
   "execution_count": 16,
   "metadata": {},
   "outputs": [],
   "source": [
    "thisdict.update()"
   ]
  },
  {
   "cell_type": "code",
   "execution_count": 17,
   "metadata": {},
   "outputs": [
    {
     "data": {
      "text/plain": [
       "{'model': 'Mustang', 'year': 1964}"
      ]
     },
     "execution_count": 17,
     "metadata": {},
     "output_type": "execute_result"
    }
   ],
   "source": [
    "thisdict"
   ]
  },
  {
   "cell_type": "markdown",
   "metadata": {},
   "source": [
    "#Rest method can be explore same way."
   ]
  }
 ],
 "metadata": {
  "kernelspec": {
   "display_name": "Python 3",
   "language": "python",
   "name": "python3"
  },
  "language_info": {
   "codemirror_mode": {
    "name": "ipython",
    "version": 3
   },
   "file_extension": ".py",
   "mimetype": "text/x-python",
   "name": "python",
   "nbconvert_exporter": "python",
   "pygments_lexer": "ipython3",
   "version": "3.6.5"
  },
  "widgets": {
   "application/vnd.jupyter.widget-state+json": {
    "state": {},
    "version_major": 2,
    "version_minor": 0
   }
  }
 },
 "nbformat": 4,
 "nbformat_minor": 2
}
