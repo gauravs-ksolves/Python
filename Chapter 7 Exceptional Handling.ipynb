{
 "cells": [
  {
   "cell_type": "markdown",
   "metadata": {},
   "source": [
    "Exception Control Flow - Try, Except, Else, Finally\n",
    "\n",
    "\n",
    "Exceptions in Python are objects that represent errors. Exceptions can be raised in many ways, such as passing invalid arguments to functions (“Boo” + 7), performing certain illegal operations (12 / 0) or even explicitly (raise TypeError). By default, exceptions stop Python programs and print a Traceback to the console with information about the exception and how it was raised. However, the try statement exists to give control flow to exceptions so that you can prevent your program from crashing and even use exception objects to your advantage. This is commonly referred to as “catching” an exception. The try statement looks like this:\n",
    "\n",
    "\n",
    "try:\n",
    "\n",
    "The code with the exception that you want to catch. If an exception is raised, control flow leaves this block immediately and goes to the except block\n",
    "\n",
    "\n",
    "except [(Exception[, Exception])] [as VAR]:\n",
    "\n",
    "This code is executed only if an exception was raised in the try block. Code executed in this block is just like normal code: if there is an exception, it will not be automatically caught\n",
    "\n",
    "\n",
    " [else:]\n",
    "\n",
    "This code is executed only if no exceptions were raised in the try block. Code executed in this block is just like normal code: if there is an exception, it will not be automatically caught (and probably stop the program). Notice that if the else block is executed, then the except block is not, and vice versa. This block is optional.\n",
    "\n",
    "\n",
    " [finally:]\n",
    "\n",
    "This code always executes after the other blocks, even if there was an uncaught exception (that didn’t cause a crash, obviously) or a return statement in one of the other blocks. Code executed in this block is just like normal code: if there is an exception, it will not be automatically caught (and probably stop the program). This block is also optional.\n",
    "\n",
    "more https://docs.python.org/3/library/exceptions.html"
   ]
  },
  {
   "cell_type": "code",
   "execution_count": 1,
   "metadata": {},
   "outputs": [
    {
     "name": "stdout",
     "output_type": "stream",
     "text": [
      "caught exception\n"
     ]
    }
   ],
   "source": [
    "def foo1():\n",
    "\n",
    "   try:\n",
    "\n",
    "       1/0\n",
    "\n",
    "   except :\n",
    "\n",
    "         print(\"caught exception\")\n",
    "        \n",
    "        \n",
    "foo1()        "
   ]
  },
  {
   "cell_type": "code",
   "execution_count": 5,
   "metadata": {},
   "outputs": [
    {
     "name": "stdout",
     "output_type": "stream",
     "text": [
      "in try block1\n",
      "problem is due to zero division\n"
     ]
    }
   ],
   "source": [
    "def foo2():\n",
    "    try:\n",
    "        print(\"in try block1\")\n",
    "        1/0\n",
    "        print(\"caught ZeroDivisionError\")\n",
    "           \n",
    "\n",
    "    except ZeroDivisionError: \n",
    "        print(\"problem is due to zero division\")\n",
    "\n",
    "       \n",
    "        \n",
    "foo2()        "
   ]
  },
  {
   "cell_type": "code",
   "execution_count": 6,
   "metadata": {},
   "outputs": [
    {
     "name": "stdout",
     "output_type": "stream",
     "text": [
      "caught ZeroDivisionError\n"
     ]
    }
   ],
   "source": [
    "def foo3():\n",
    "\n",
    "   try:\n",
    "\n",
    "       1/0\n",
    "\n",
    "   except TypeError:\n",
    "\n",
    "       print(\"caught TypeError\")\n",
    "\n",
    "   except ZeroDivisionError:\n",
    "\n",
    "       print(\"caught ZeroDivisionError\")\n",
    "        \n",
    "foo3()\n",
    "\n",
    "        "
   ]
  },
  {
   "cell_type": "code",
   "execution_count": 18,
   "metadata": {},
   "outputs": [
    {
     "name": "stdout",
     "output_type": "stream",
     "text": [
      "caught TypeError or ZeroDivisionError\n"
     ]
    }
   ],
   "source": [
    "def foo4():\n",
    "\n",
    "   try:\n",
    "\n",
    "       a=1+'d'\n",
    "\n",
    "   except (TypeError, ZeroDivisionError):\n",
    "\n",
    "       print(\"caught TypeError or ZeroDivisionError\")\n",
    "        \n",
    "foo4()        "
   ]
  },
  {
   "cell_type": "code",
   "execution_count": 7,
   "metadata": {},
   "outputs": [
    {
     "name": "stdout",
     "output_type": "stream",
     "text": [
      "unsupported operand type(s) for +: 'int' and 'str'\n"
     ]
    }
   ],
   "source": [
    "def foo5():\n",
    "\n",
    "   try:\n",
    "\n",
    "       a=1+'d'\n",
    "\n",
    "   except Exception as e:\n",
    "\n",
    "       print(e)\n",
    "        \n",
    "foo5()\n",
    "        "
   ]
  },
  {
   "cell_type": "code",
   "execution_count": 23,
   "metadata": {},
   "outputs": [
    {
     "name": "stdout",
     "output_type": "stream",
     "text": [
      "caught exception\n"
     ]
    }
   ],
   "source": [
    "def foo7():\n",
    "\n",
    "   try:\n",
    "    1/0\n",
    "\n",
    "   except TypeError:\n",
    "    print(\"caught TypeError\")\n",
    "\n",
    "   except:\n",
    "    print(\"caught exception\")\n",
    "        \n",
    "foo7()        \n",
    "        \n",
    "     "
   ]
  },
  {
   "cell_type": "code",
   "execution_count": 8,
   "metadata": {},
   "outputs": [
    {
     "name": "stdout",
     "output_type": "stream",
     "text": [
      "caught TypeError\n"
     ]
    }
   ],
   "source": [
    "def foo8():\n",
    "\n",
    "   try:\n",
    "\n",
    "       1/0\n",
    "\n",
    "   except :\n",
    "\n",
    "         print(\"caught TypeError\")\n",
    "        \n",
    "foo8()        "
   ]
  },
  {
   "cell_type": "code",
   "execution_count": 24,
   "metadata": {},
   "outputs": [
    {
     "name": "stdout",
     "output_type": "stream",
     "text": [
      "no exception raised\n"
     ]
    }
   ],
   "source": [
    "def foo9():\n",
    "\n",
    "   try:\n",
    "\n",
    "       1 + 0\n",
    "\n",
    "   except:\n",
    "\n",
    "         print(\"caught exception\")\n",
    "\n",
    "   else:\n",
    "\n",
    "       print(\"no exception raised\")\n",
    "        \n",
    "foo9()        "
   ]
  },
  {
   "cell_type": "code",
   "execution_count": 26,
   "metadata": {},
   "outputs": [
    {
     "name": "stdout",
     "output_type": "stream",
     "text": [
      "caught exception\n",
      "finally\n"
     ]
    }
   ],
   "source": [
    "def foo10():\n",
    "\n",
    "   try:\n",
    "\n",
    "       1/0\n",
    "\n",
    "   except:\n",
    "\n",
    "         print(\"caught exception\")\n",
    "\n",
    "   else:\n",
    "\n",
    "       print(\"no exception raised\")\n",
    "\n",
    "   finally:\n",
    "\n",
    "         print(\"finally\")\n",
    "        \n",
    "        \n",
    "foo10()        "
   ]
  },
  {
   "cell_type": "code",
   "execution_count": 9,
   "metadata": {
    "collapsed": true
   },
   "outputs": [
    {
     "name": "stdout",
     "output_type": "stream",
     "text": [
      "finally\n"
     ]
    },
    {
     "data": {
      "text/plain": [
       "10"
      ]
     },
     "execution_count": 9,
     "metadata": {},
     "output_type": "execute_result"
    }
   ],
   "source": [
    "def foo11():\n",
    "\n",
    "   try:\n",
    "\n",
    "       1 + 0\n",
    "\n",
    "   except:\n",
    "\n",
    "       return 0\n",
    "\n",
    "   else:\n",
    "\n",
    "       return 10\n",
    "\n",
    "   finally:\n",
    "\n",
    "         print(\"finally\")\n",
    "        \n",
    "        \n",
    "foo11()        "
   ]
  },
  {
   "cell_type": "code",
   "execution_count": null,
   "metadata": {},
   "outputs": [],
   "source": []
  }
 ],
 "metadata": {
  "kernelspec": {
   "display_name": "Python 3",
   "language": "python",
   "name": "python3"
  },
  "language_info": {
   "codemirror_mode": {
    "name": "ipython",
    "version": 3
   },
   "file_extension": ".py",
   "mimetype": "text/x-python",
   "name": "python",
   "nbconvert_exporter": "python",
   "pygments_lexer": "ipython3",
   "version": "3.7.2rc1"
  }
 },
 "nbformat": 4,
 "nbformat_minor": 2
}
